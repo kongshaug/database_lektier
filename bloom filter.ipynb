{
 "cells": [
  {
   "cell_type": "markdown",
   "id": "precious-vinyl",
   "metadata": {},
   "source": [
    "### Using your language of choice, implement a bloom filter with add and check functions. The backing bit-array can simply be a long (64 bit integer). "
   ]
  },
  {
   "cell_type": "code",
   "execution_count": 118,
   "id": "voluntary-effectiveness",
   "metadata": {},
   "outputs": [],
   "source": [
    "# Python 3 program to build Bloom Filter\n",
    "# Install mmh3 and bitarray 3rd party module first\n",
    "#pip install mmh3\n",
    "# pip install bitarray\n",
    "import math\n",
    "import mmh3\n",
    "from bitarray import bitarray\n",
    "import numpy as np\n",
    "from collections import OrderedDict\n"
   ]
  },
  {
   "cell_type": "code",
   "execution_count": 51,
   "id": "balanced-spain",
   "metadata": {},
   "outputs": [],
   "source": [
    "from bitarray import bitarray\n",
    "\n",
    "class BloomFilter():\n",
    "    def __init__(self):\n",
    "        self.a = bitarray(2**6)\n",
    "        self.a.setall(False)\n",
    "\n",
    "    def add(self, item):\n",
    "        for i in range(3):\n",
    "            digest = mmh3.hash(item, i) % 64\n",
    "            self.a[digest] = 1\n",
    "    \n",
    "            \n",
    "\n",
    "    def check(self, item):\n",
    "\n",
    "        for i in range(3):\n",
    "            digest = mmh3.hash(item, i) % 64\n",
    "            if self.a[digest] == False:\n",
    "                return False\n",
    "        return True"
   ]
  },
  {
   "cell_type": "code",
   "execution_count": 52,
   "id": "blank-manner",
   "metadata": {},
   "outputs": [],
   "source": [
    "bf = BloomFilter()"
   ]
  },
  {
   "cell_type": "code",
   "execution_count": 53,
   "id": "civic-cardiff",
   "metadata": {},
   "outputs": [],
   "source": [
    "bf.add(\"yart\")"
   ]
  },
  {
   "cell_type": "code",
   "execution_count": 56,
   "id": "strange-numbers",
   "metadata": {},
   "outputs": [
    {
     "data": {
      "text/plain": [
       "False"
      ]
     },
     "execution_count": 56,
     "metadata": {},
     "output_type": "execute_result"
    }
   ],
   "source": [
    "bf.check(\"words\")"
   ]
  },
  {
   "cell_type": "code",
   "execution_count": 55,
   "id": "known-smoke",
   "metadata": {},
   "outputs": [
    {
     "data": {
      "text/plain": [
       "True"
      ]
     },
     "execution_count": 55,
     "metadata": {},
     "output_type": "execute_result"
    }
   ],
   "source": [
    "bf.check(\"yart\")"
   ]
  },
  {
   "cell_type": "markdown",
   "id": "golden-smooth",
   "metadata": {},
   "source": [
    "## Task3"
   ]
  },
  {
   "cell_type": "markdown",
   "id": "educational-waters",
   "metadata": {},
   "source": [
    "1. Generate Huffmann Code (and draw the Huffmann Tree) based on the\n",
    "following string: “beebs beepps!!!!! their eerie ears hear pears”\n"
   ]
  },
  {
   "cell_type": "code",
   "execution_count": 136,
   "id": "first-burlington",
   "metadata": {},
   "outputs": [],
   "source": [
    "input_str = \"beebs beepps!!!!! their eerie ears hear pears\""
   ]
  },
  {
   "cell_type": "code",
   "execution_count": 137,
   "id": "exclusive-receptor",
   "metadata": {},
   "outputs": [],
   "source": [
    "chars = []\n",
    "for char in input_str:\n",
    "    chars.append(char)\n",
    "chars = np.array(chars)"
   ]
  },
  {
   "cell_type": "code",
   "execution_count": 138,
   "id": "quarterly-penalty",
   "metadata": {},
   "outputs": [],
   "source": [
    "unique_chars = np.unique(chars)"
   ]
  },
  {
   "cell_type": "code",
   "execution_count": 139,
   "id": "accredited-energy",
   "metadata": {},
   "outputs": [],
   "source": [
    "char_dict = {}"
   ]
  },
  {
   "cell_type": "code",
   "execution_count": 140,
   "id": "written-proposal",
   "metadata": {},
   "outputs": [],
   "source": [
    "# char_dict = {{i:0} for i in unique_chars}\n",
    "for i in unique_chars:\n",
    "    char_dict[i] = 0"
   ]
  },
  {
   "cell_type": "code",
   "execution_count": 141,
   "id": "naughty-consciousness",
   "metadata": {},
   "outputs": [],
   "source": [
    "# char_dict = [char_dict[i] += 1 for i in unique_chars]\n",
    "\n",
    "for char in chars:\n",
    "    char_dict[char] = char_dict[char]+1"
   ]
  },
  {
   "cell_type": "code",
   "execution_count": 145,
   "id": "fitting-defeat",
   "metadata": {},
   "outputs": [],
   "source": [
    "char_dict = dict(sorted(char_dict.items(), key=lambda item: item[1]))"
   ]
  },
  {
   "cell_type": "code",
   "execution_count": 147,
   "id": "injured-columbus",
   "metadata": {},
   "outputs": [
    {
     "data": {
      "text/plain": [
       "{'t': 1,\n",
       " 'h': 2,\n",
       " 'i': 2,\n",
       " 'a': 3,\n",
       " 'b': 3,\n",
       " 'p': 3,\n",
       " 's': 4,\n",
       " '!': 5,\n",
       " 'r': 5,\n",
       " ' ': 6,\n",
       " 'e': 11}"
      ]
     },
     "execution_count": 147,
     "metadata": {},
     "output_type": "execute_result"
    }
   ],
   "source": [
    "char_dict\n"
   ]
  },
  {
   "cell_type": "code",
   "execution_count": 151,
   "id": "australian-filing",
   "metadata": {},
   "outputs": [],
   "source": [
    "def huff(word):\n",
    "    chars = []\n",
    "    for char in word:\n",
    "        chars.append(char)\n",
    "    chars = np.array(chars)\n",
    "    unique_chars = np.unique(chars)\n",
    "    char_dict = {}\n",
    "    for i in unique_chars:\n",
    "        char_dict[i] = 0\n",
    "    for char in chars:\n",
    "        char_dict[char] = char_dict[char]+1\n",
    "    tree = []\n",
    "    while(len(char_dict)>1):\n",
    "        char_dict = dict(sorted(char_dict.items(), key=lambda item: item[1]))\n",
    "        combined_node = char_dict[0] + char_dict[1]\n",
    "    \n",
    "        \n",
    "def make_node()"
   ]
  },
  {
   "cell_type": "code",
   "execution_count": 152,
   "id": "dated-shareware",
   "metadata": {},
   "outputs": [
    {
     "name": "stdout",
     "output_type": "stream",
     "text": [
      "{'r': 1, 'h': 1, 'e': 3}\n"
     ]
    }
   ],
   "source": [
    "huff(\"heree\")"
   ]
  },
  {
   "cell_type": "markdown",
   "id": "sorted-extraction",
   "metadata": {},
   "source": [
    "Task 4 - Map and Reduce"
   ]
  },
  {
   "cell_type": "markdown",
   "id": "international-graduation",
   "metadata": {},
   "source": [
    " Map the list of numbers to a list of their square roots: [1, 9, 16, 100]"
   ]
  },
  {
   "cell_type": "markdown",
   "id": "little-textbook",
   "metadata": {},
   "source": [
    "from math import sqrt\n",
    "nums = [1, 9, 16, 100]\n",
    "result = list(map(lambda x: sqrt(x), nums))\n",
    "print(result)"
   ]
  },
  {
   "cell_type": "markdown",
   "id": "explicit-promise",
   "metadata": {},
   "source": [
    "Map the list of words so each is wrapped in a ¡h1¿ tag: [“Intro”, “Requirements”, “Analysis”, “Implementation”, “Conclusion”, “Discussion”,\n",
    "“References”]\n"
   ]
  },
  {
   "cell_type": "code",
   "execution_count": 160,
   "id": "concrete-fiction",
   "metadata": {},
   "outputs": [
    {
     "data": {
      "text/plain": [
       "['<h1>Intro</h1>',\n",
       " '<h1>Requirements</h1>',\n",
       " '<h1>Analysis</h1>',\n",
       " '<h1>Implementation</h1>',\n",
       " '<h1>Conclusion</h1>',\n",
       " '<h1>Discussion</h1>',\n",
       " '<h1>References</h1>']"
      ]
     },
     "execution_count": 160,
     "metadata": {},
     "output_type": "execute_result"
    }
   ],
   "source": [
    "words = ['Intro', 'Requirements', 'Analysis', 'Implementation', 'Conclusion', 'Discussion', 'References']\n",
    "result = list(map(lambda x: \"<h1>{}</h1>\".format(x), words))\n",
    "result"
   ]
  },
  {
   "cell_type": "markdown",
   "id": "catholic-lover",
   "metadata": {},
   "source": [
    "Use map to uppercase the words (all letters): [“i’m”, “yelling”, “today”]"
   ]
  },
  {
   "cell_type": "code",
   "execution_count": 165,
   "id": "federal-river",
   "metadata": {},
   "outputs": [
    {
     "data": {
      "text/plain": [
       "['I’M', 'YELLING', 'TODAY']"
      ]
     },
     "execution_count": 165,
     "metadata": {},
     "output_type": "execute_result"
    }
   ],
   "source": [
    "words =  [\"i’m\", \"yelling\", \"today\"]\n",
    "\n",
    "result = list(map(lambda x: x.upper(), words))\n",
    "result"
   ]
  },
  {
   "cell_type": "markdown",
   "id": "planned-winning",
   "metadata": {},
   "source": [
    "Use map to transform words into their lengths: [“I”, “have”, “looooooong”,\n",
    "“words”]"
   ]
  },
  {
   "cell_type": "code",
   "execution_count": 167,
   "id": "isolated-gates",
   "metadata": {},
   "outputs": [
    {
     "data": {
      "text/plain": [
       "[1, 4, 10, 5]"
      ]
     },
     "execution_count": 167,
     "metadata": {},
     "output_type": "execute_result"
    }
   ],
   "source": [
    "words =   [\"I\", \"have\", \"looooooong\", \"words\"]\n",
    "\n",
    "result = list(map(lambda x: len(x), words))\n",
    "result"
   ]
  },
  {
   "cell_type": "markdown",
   "id": "loving-blast",
   "metadata": {},
   "source": [
    "Get the json file comics.json from the course site. Paste it into your\n",
    "browser’s Javascript console. Use map to get all the image urls, and wrap\n",
    "them in img-tags."
   ]
  },
  {
   "cell_type": "code",
   "execution_count": 169,
   "id": "informational-education",
   "metadata": {},
   "outputs": [],
   "source": [
    "comics = [\n",
    "{\n",
    "  \"month\": \"1\",\n",
    "  \"num\": 43,\n",
    "  \"link\": \"\",\n",
    "  \"year\": \"2006\",\n",
    "  \"news\": \"\",\n",
    "  \"safe_title\": \"Red Spiders 2\",\n",
    "  \"transcript\": \"[[Red spiders, with round appendages at the end of each of their six legs, are seen navigating an environment of blocks and other geometric constructions]]\\n{{title text: This was actually drawn years before Red Spiders}}\",\n",
    "  \"alt\": \"This was actually drawn years before Red Spiders\",\n",
    "  \"img\": \"https://imgs.xkcd.com/comics/red_spiders_2.jpg\",\n",
    "  \"title\": \"Red Spiders 2\",\n",
    "  \"day\": \"1\"\n",
    "},\n",
    "{\n",
    "  \"month\": \"1\",\n",
    "  \"num\": 44,\n",
    "  \"link\": \"\",\n",
    "  \"year\": \"2006\",\n",
    "  \"news\": \"\",\n",
    "  \"safe_title\": \"Love\",\n",
    "  \"transcript\": \"[[A man and a woman stand facing one another]]\\nMan: I love you!\\nWoman: I love you!\\nMan: I love you more!\\nWoman: Yeah.\\n[[A man and a woman stand facing one another - saying nothing.]]\\n{{Alt-text: This one makes me wince every time I think about it}}\",\n",
    "  \"alt\": \"This one makes me wince every time I think about it\",\n",
    "  \"img\": \"https://imgs.xkcd.com/comics/love.jpg\",\n",
    "  \"title\": \"Love\",\n",
    "  \"day\": \"1\"\n",
    "},\n",
    "{\n",
    "  \"month\": \"1\",\n",
    "  \"num\": 45,\n",
    "  \"link\": \"\",\n",
    "  \"year\": \"2006\",\n",
    "  \"news\": \"\",\n",
    "  \"safe_title\": \"Schrodinger\",\n",
    "  \"transcript\": \"[[Label: Schrödinger's Comic]]\\n[[Two figures standing, one with a black hat]]\\nThe last panel of this comic is both funny and not funny at the same time.\\nUntil you read it, there's no way to tell which it will end up being.\\nShit.\\n{{alt: There was no alt-text until you moused over}}\",\n",
    "  \"alt\": \"There was no alt-text until you moused over\",\n",
    "  \"img\": \"https://imgs.xkcd.com/comics/schrodinger.jpg\",\n",
    "  \"title\": \"Schrodinger\",\n",
    "  \"day\": \"4\"\n",
    "},\n",
    "{\n",
    "  \"month\": \"1\",\n",
    "  \"num\": 46,\n",
    "  \"link\": \"\",\n",
    "  \"year\": \"2006\",\n",
    "  \"news\": \"\",\n",
    "  \"safe_title\": \"Secrets\",\n",
    "  \"transcript\": \"I just want you to share in my secrets\\n[[lonely looking girl staring down]]\\nand not run away\\n{{alt: I'm a big fan of Kurt Halsey}}\",\n",
    "  \"alt\": \"I'm a big fan of Kurt Halsey\",\n",
    "  \"img\": \"https://imgs.xkcd.com/comics/secrets.jpg\",\n",
    "  \"title\": \"Secrets\",\n",
    "  \"day\": \"6\"\n",
    "},\n",
    "{\n",
    "  \"month\": \"1\",\n",
    "  \"num\": 47,\n",
    "  \"link\": \"\",\n",
    "  \"year\": \"2006\",\n",
    "  \"news\": \"\",\n",
    "  \"safe_title\": \"Counter-Red Spiders\",\n",
    "  \"transcript\": \"[[A stack of stick figures, standing on each others shoulders extends from the bottom of the frame to the top.  Cuboids hang in the air]]\\nThe counter-red-spider offensive begins ...\\n{{title text: I hope we can stop them}}\",\n",
    "  \"alt\": \"I hope we can stop them\",\n",
    "  \"img\": \"https://imgs.xkcd.com/comics/counter-red-spiders.jpg\",\n",
    "  \"title\": \"Counter-Red Spiders\",\n",
    "  \"day\": \"9\"\n",
    "},\n",
    "{\n",
    "  \"month\": \"1\",\n",
    "  \"num\": 48,\n",
    "  \"link\": \"\",\n",
    "  \"year\": \"2006\",\n",
    "  \"news\": \"\",\n",
    "  \"safe_title\": \"Found\",\n",
    "  \"transcript\": \"[[A male and female stick figure are standing on a white hill (presumably snow) with a grey sky covered with thick streaks of white, and small pink dots]]\\nwe are just two people \\nwho found each other\\n{{No more, no less}}\",\n",
    "  \"alt\": \"No more, no less\",\n",
    "  \"img\": \"https://imgs.xkcd.com/comics/found.jpg\",\n",
    "  \"title\": \"Found\",\n",
    "  \"day\": \"12\"\n",
    "},\n",
    "{\n",
    "  \"month\": \"1\",\n",
    "  \"num\": 49,\n",
    "  \"link\": \"\",\n",
    "  \"year\": \"2006\",\n",
    "  \"news\": \"\",\n",
    "  \"safe_title\": \"Want\",\n",
    "  \"transcript\": \"I want to be brave enough to tell you how I feel.\\nI want to say \\\"I love you\\\" _before_ I hang up the phone for once.\\nI want to drive all night with you, listening to mix tapes, not caring where we end up.\\nOh, and I also really want to get with your sister.\\nI mean, DAMN.\\n{{title text: Well, she's pretty hot.}}\",\n",
    "  \"alt\": \"Well, she's pretty hot.\",\n",
    "  \"img\": \"https://imgs.xkcd.com/comics/want.jpg\",\n",
    "  \"title\": \"Want\",\n",
    "  \"day\": \"14\"\n",
    "},\n",
    "{\n",
    "  \"month\": \"1\",\n",
    "  \"num\": 50,\n",
    "  \"link\": \"\",\n",
    "  \"year\": \"2006\",\n",
    "  \"news\": \"\",\n",
    "  \"safe_title\": \"Penny Arcade\",\n",
    "  \"transcript\": \"Tycho: You know what? If you've never played the 1995 SNES RPG 'Seiken Densetsu' don't even _bother_ reading today's strip. We don't _need_ your kind here.\\n{{title text: Of course, Penny Arcade has already mocked themselves for this. They don't care.}}\",\n",
    "  \"alt\": \"Of course, Penny Arcade has already mocked themselves for this.  They don't care.\",\n",
    "  \"img\": \"https://imgs.xkcd.com/comics/penny_arcade.jpg\",\n",
    "  \"title\": \"Penny Arcade\",\n",
    "  \"day\": \"17\"\n",
    "}\n",
    "]"
   ]
  },
  {
   "cell_type": "code",
   "execution_count": 172,
   "id": "dependent-wheel",
   "metadata": {},
   "outputs": [
    {
     "data": {
      "text/plain": [
       "['<img>https://imgs.xkcd.com/comics/red_spiders_2.jpg</img>',\n",
       " '<img>https://imgs.xkcd.com/comics/love.jpg</img>',\n",
       " '<img>https://imgs.xkcd.com/comics/schrodinger.jpg</img>',\n",
       " '<img>https://imgs.xkcd.com/comics/secrets.jpg</img>',\n",
       " '<img>https://imgs.xkcd.com/comics/counter-red-spiders.jpg</img>',\n",
       " '<img>https://imgs.xkcd.com/comics/found.jpg</img>',\n",
       " '<img>https://imgs.xkcd.com/comics/want.jpg</img>',\n",
       " '<img>https://imgs.xkcd.com/comics/penny_arcade.jpg</img>']"
      ]
     },
     "execution_count": 172,
     "metadata": {},
     "output_type": "execute_result"
    }
   ],
   "source": [
    "result = list(map(lambda x: \"<img>{}</img>\".format(x[\"img\"]), comics))\n",
    "result"
   ]
  },
  {
   "cell_type": "markdown",
   "id": "hungarian-metallic",
   "metadata": {},
   "source": [
    "Use reduce to sum the array of numbers: [1,2,3,4,5]\n"
   ]
  },
  {
   "cell_type": "code",
   "execution_count": 181,
   "id": "opened-childhood",
   "metadata": {},
   "outputs": [
    {
     "name": "stdout",
     "output_type": "stream",
     "text": [
      "15\n",
      "15\n"
     ]
    }
   ],
   "source": [
    "import functools\n",
    "import operator\n",
    "\n",
    "numbers = [1,2,3,4,5]\n",
    "print (functools.reduce(lambda a,b : a+b,numbers))\n",
    "\n",
    "print (functools.reduce(operator.add,numbers))\n"
   ]
  },
  {
   "cell_type": "markdown",
   "id": "developed-denmark",
   "metadata": {},
   "source": [
    "Use reduce to sum the x-value of the objects in the array: [{x: 1},{x:\n",
    "2},{x: 3}]\n"
   ]
  },
  {
   "cell_type": "code",
   "execution_count": 194,
   "id": "ranging-surgeon",
   "metadata": {},
   "outputs": [
    {
     "ename": "TypeError",
     "evalue": "unsupported operand type(s) for +: 'dict' and 'dict'",
     "output_type": "error",
     "traceback": [
      "\u001b[1;31m---------------------------------------------------------------------------\u001b[0m",
      "\u001b[1;31mTypeError\u001b[0m                                 Traceback (most recent call last)",
      "\u001b[1;32m<ipython-input-194-0411d1b65e78>\u001b[0m in \u001b[0;36m<module>\u001b[1;34m\u001b[0m\n\u001b[0;32m      1\u001b[0m \u001b[0ml\u001b[0m \u001b[1;33m=\u001b[0m  \u001b[1;33m[\u001b[0m\u001b[1;33m{\u001b[0m\u001b[1;34m\"x\"\u001b[0m\u001b[1;33m:\u001b[0m \u001b[1;36m1\u001b[0m\u001b[1;33m}\u001b[0m\u001b[1;33m,\u001b[0m\u001b[1;33m{\u001b[0m\u001b[1;34m\"x\"\u001b[0m\u001b[1;33m:\u001b[0m \u001b[1;36m2\u001b[0m\u001b[1;33m}\u001b[0m\u001b[1;33m,\u001b[0m\u001b[1;33m{\u001b[0m\u001b[1;34m\"x\"\u001b[0m\u001b[1;33m:\u001b[0m \u001b[1;36m3\u001b[0m\u001b[1;33m}\u001b[0m\u001b[1;33m]\u001b[0m\u001b[1;33m\u001b[0m\u001b[1;33m\u001b[0m\u001b[0m\n\u001b[0;32m      2\u001b[0m \u001b[1;33m\u001b[0m\u001b[0m\n\u001b[1;32m----> 3\u001b[1;33m \u001b[0mans\u001b[0m \u001b[1;33m=\u001b[0m \u001b[0mfunctools\u001b[0m\u001b[1;33m.\u001b[0m\u001b[0mreduce\u001b[0m\u001b[1;33m(\u001b[0m\u001b[1;32mlambda\u001b[0m \u001b[0mx\u001b[0m\u001b[1;33m,\u001b[0m \u001b[0my\u001b[0m\u001b[1;33m:\u001b[0m \u001b[0mx\u001b[0m\u001b[1;33m+\u001b[0m\u001b[0my\u001b[0m\u001b[1;33m,\u001b[0m \u001b[0ml\u001b[0m\u001b[1;33m)\u001b[0m\u001b[1;33m\u001b[0m\u001b[1;33m\u001b[0m\u001b[0m\n\u001b[0m\u001b[0;32m      4\u001b[0m \u001b[0mans\u001b[0m\u001b[1;33m\u001b[0m\u001b[1;33m\u001b[0m\u001b[0m\n",
      "\u001b[1;32m<ipython-input-194-0411d1b65e78>\u001b[0m in \u001b[0;36m<lambda>\u001b[1;34m(x, y)\u001b[0m\n\u001b[0;32m      1\u001b[0m \u001b[0ml\u001b[0m \u001b[1;33m=\u001b[0m  \u001b[1;33m[\u001b[0m\u001b[1;33m{\u001b[0m\u001b[1;34m\"x\"\u001b[0m\u001b[1;33m:\u001b[0m \u001b[1;36m1\u001b[0m\u001b[1;33m}\u001b[0m\u001b[1;33m,\u001b[0m\u001b[1;33m{\u001b[0m\u001b[1;34m\"x\"\u001b[0m\u001b[1;33m:\u001b[0m \u001b[1;36m2\u001b[0m\u001b[1;33m}\u001b[0m\u001b[1;33m,\u001b[0m\u001b[1;33m{\u001b[0m\u001b[1;34m\"x\"\u001b[0m\u001b[1;33m:\u001b[0m \u001b[1;36m3\u001b[0m\u001b[1;33m}\u001b[0m\u001b[1;33m]\u001b[0m\u001b[1;33m\u001b[0m\u001b[1;33m\u001b[0m\u001b[0m\n\u001b[0;32m      2\u001b[0m \u001b[1;33m\u001b[0m\u001b[0m\n\u001b[1;32m----> 3\u001b[1;33m \u001b[0mans\u001b[0m \u001b[1;33m=\u001b[0m \u001b[0mfunctools\u001b[0m\u001b[1;33m.\u001b[0m\u001b[0mreduce\u001b[0m\u001b[1;33m(\u001b[0m\u001b[1;32mlambda\u001b[0m \u001b[0mx\u001b[0m\u001b[1;33m,\u001b[0m \u001b[0my\u001b[0m\u001b[1;33m:\u001b[0m \u001b[0mx\u001b[0m\u001b[1;33m+\u001b[0m\u001b[0my\u001b[0m\u001b[1;33m,\u001b[0m \u001b[0ml\u001b[0m\u001b[1;33m)\u001b[0m\u001b[1;33m\u001b[0m\u001b[1;33m\u001b[0m\u001b[0m\n\u001b[0m\u001b[0;32m      4\u001b[0m \u001b[0mans\u001b[0m\u001b[1;33m\u001b[0m\u001b[1;33m\u001b[0m\u001b[0m\n",
      "\u001b[1;31mTypeError\u001b[0m: unsupported operand type(s) for +: 'dict' and 'dict'"
     ]
    }
   ],
   "source": [
    "my_list =  [{\"x\": 1},{\"x\": 2},{\"x\": 3}]\n",
    "\n",
    "ans = functools.reduce(lambda x, y: x + y['x'], my_list, 0)\n",
    "ans"
   ]
  },
  {
   "cell_type": "markdown",
   "id": "better-filename",
   "metadata": {},
   "source": [
    "Use reduce to flatten an array of arrays: [[1,2],[3,4],[5,6]]"
   ]
  },
  {
   "cell_type": "code",
   "execution_count": 196,
   "id": "spiritual-bleeding",
   "metadata": {},
   "outputs": [
    {
     "data": {
      "text/plain": [
       "[1, 2, 3, 4, 5, 6]"
      ]
     },
     "execution_count": 196,
     "metadata": {},
     "output_type": "execute_result"
    }
   ],
   "source": [
    "l =  [[1,2],[3,4],[5,6]]\n",
    "\n",
    "ans = functools.reduce(lambda x, y: x+y, l)\n",
    "ans"
   ]
  },
  {
   "cell_type": "markdown",
   "id": "fourth-student",
   "metadata": {},
   "source": [
    " Use reduce to return an array of the positive numbers: [-3, -1, 2, 4, 5]"
   ]
  },
  {
   "cell_type": "code",
   "execution_count": 201,
   "id": "million-consciousness",
   "metadata": {},
   "outputs": [
    {
     "data": {
      "text/plain": [
       "[2, 4, 5]"
      ]
     },
     "execution_count": 201,
     "metadata": {},
     "output_type": "execute_result"
    }
   ],
   "source": [
    "nums = [-3, -1, 2, 4, 5]\n",
    "\n",
    "ans = list(filter(lambda x: x>0, nums))\n",
    "ans"
   ]
  },
  {
   "cell_type": "code",
   "execution_count": null,
   "id": "alpine-february",
   "metadata": {},
   "outputs": [],
   "source": []
  }
 ],
 "metadata": {
  "kernelspec": {
   "display_name": "Python 3",
   "language": "python",
   "name": "python3"
  },
  "language_info": {
   "codemirror_mode": {
    "name": "ipython",
    "version": 3
   },
   "file_extension": ".py",
   "mimetype": "text/x-python",
   "name": "python",
   "nbconvert_exporter": "python",
   "pygments_lexer": "ipython3",
   "version": "3.7.4"
  }
 },
 "nbformat": 4,
 "nbformat_minor": 5
}
